{
  "nbformat": 4,
  "nbformat_minor": 0,
  "metadata": {
    "colab": {
      "provenance": []
    },
    "kernelspec": {
      "name": "python3",
      "display_name": "Python 3"
    },
    "language_info": {
      "name": "python"
    }
  },
  "cells": [
    {
      "cell_type": "markdown",
      "source": [
        "## **Data Types and Structures **\n"
      ],
      "metadata": {
        "id": "fG8dwDRFhls-"
      }
    },
    {
      "cell_type": "markdown",
      "source": [
        "1. What are data structures, and why are they important?\n",
        "\n",
        "Data structures are ways of organizing and storing data to perform operations efficiently. They're important because they allow optimal access, modification, and management of data. Examples include lists, dictionaries, sets, and tuples in Python.\n",
        "\n",
        "2. Explain the difference between mutable and immutable data types with examples.\n",
        "\n",
        "Mutable: Can be changed after creation\n",
        "Immutable: Cannot be changed\n",
        "\n",
        "3. What are the main differences between lists and tuples in Python?\n",
        "\n",
        "Lists are mutable, tuples are immutable.\n",
        "\n",
        "Lists have more built-in functions.\n",
        "\n",
        "Tuples are faster and safer when storing constant data.\n",
        "\n",
        "4. Describe how dictionaries store data.\n",
        "\n",
        "Dictionaries store data in key-value pairs using a hash map structure. Keys must be unique and hashable.\n",
        "\n",
        "5. Why might you use a set instead of a list in Python?\n",
        "\n",
        "Sets automatically remove duplicates and offer faster membership testing (in operator).\n",
        "\n",
        "6. What is a string in Python, and how is it different from a list?\n",
        "\n",
        "A string is a sequence of characters (immutable), while a list is a sequence of items (mutable). You can’t modify a string but can change list elements.\n",
        "\n",
        "7. How do tuples ensure data integrity in Python?\n",
        "\n",
        "Their immutability means their values can't be altered, ensuring the data stays constant.\n",
        "\n",
        "8. What is a hash table, and how does it relate to dictionaries in Python?\n",
        "\n",
        "A hash table maps keys to values using a hash function. Python dictionaries are implemented as hash tables.\n",
        "\n",
        "9. Can lists contain different data types in Python?\n",
        "\n",
        "Yes, e.g., [1, 'two', 3.0, True]\n",
        "\n",
        "10. Explain why strings are immutable in Python.\n",
        "\n",
        "For memory efficiency, security, and hashability. It ensures that once created, string values stay unchanged.\n",
        "\n",
        "11. What advantages do dictionaries offer over lists for certain tasks?\n",
        "\n",
        "Fast lookup with keys, clearer associations between elements, and no need to search by index.\n",
        "\n",
        "12. Describe a scenario where using a tuple would be preferable over a list.\n",
        "\n",
        "When storing constant config values like GPS coordinates: (37.7749, -122.4194)\n",
        "\n",
        "13. How do sets handle duplicate values in Python?\n",
        "\n",
        "Sets automatically eliminate duplicates.\n",
        "\n",
        "14. How does the in keyword work differently for lists and dictionaries?\n",
        "\n",
        "In lists: Checks for existence of element.\n",
        "\n",
        "In dicts: Checks for existence of key.\n",
        "\n",
        "15. Can you modify the elements of a tuple? Explain why or why not.\n",
        "\n",
        "No, tuples are immutable. Any attempt to modify will raise an error.\n",
        "\n",
        "16.What is a nested dictionary, and give an example of its use case.\n",
        "\n",
        "A dictionary inside another dictionary.\n",
        "Example:\n",
        "\n",
        "students = {'John': {'age': 20, 'grade': 'A'}}\n",
        "\n",
        "17.Describe the time complexity of accessing elements in a dictionary.\n",
        "\n",
        "Average case: O(1) (constant time).\n",
        "\n",
        "18. In what situations are lists preferred over dictionaries?\n",
        "\n",
        "When order matters.\n",
        "\n",
        "When using indexed data without key-value pairs.\n",
        "\n",
        "19. Why are dictionaries considered unordered, and how does that affect data retrieval?\n",
        "\n",
        "Before Python 3.7, dictionaries didn’t maintain insertion order. This meant unpredictable iteration order.\n",
        "\n",
        "20. Explain the difference between a list and a dictionary in terms of data retrieval.\n",
        "\n",
        "List: Access via index (list[2]).\n",
        "\n",
        "Dictionary: Access via key (dict['name'])."
      ],
      "metadata": {
        "id": "yiqcDwzxh0gD"
      }
    },
    {
      "cell_type": "markdown",
      "source": [
        "## **Practical Questions**"
      ],
      "metadata": {
        "id": "Oxv-e-7LjnA8"
      }
    },
    {
      "cell_type": "code",
      "source": [
        "# Write a code to create a string with your name and print it\n",
        "name = \"Tushar singh\"\n",
        "print(name)"
      ],
      "metadata": {
        "colab": {
          "base_uri": "https://localhost:8080/"
        },
        "id": "RXODNMfhjldt",
        "outputId": "ff334a59-0b1e-44ed-9367-c6c58bb620b2"
      },
      "execution_count": 1,
      "outputs": [
        {
          "output_type": "stream",
          "name": "stdout",
          "text": [
            "Tushar singh\n"
          ]
        }
      ]
    },
    {
      "cell_type": "code",
      "source": [
        "#Write a code to find the length of the string \"Hello World\"\n",
        "print(len(\"hello world\"))"
      ],
      "metadata": {
        "colab": {
          "base_uri": "https://localhost:8080/"
        },
        "id": "5HgwRTDjjjMr",
        "outputId": "54652b19-609f-418f-9105-a028de377e01"
      },
      "execution_count": 2,
      "outputs": [
        {
          "output_type": "stream",
          "name": "stdout",
          "text": [
            "11\n"
          ]
        }
      ]
    },
    {
      "cell_type": "code",
      "source": [
        "#Write a code to slice the first 3 characters from the string \"Python Programming\"\n",
        "a = \"python programming\"\n",
        "print(a[:3])"
      ],
      "metadata": {
        "colab": {
          "base_uri": "https://localhost:8080/"
        },
        "id": "_77b-dSJkhld",
        "outputId": "fe891961-8671-4148-f7a9-60bd2c0ffd1f"
      },
      "execution_count": 5,
      "outputs": [
        {
          "output_type": "stream",
          "name": "stdout",
          "text": [
            "pyt\n"
          ]
        }
      ]
    },
    {
      "cell_type": "code",
      "source": [
        "# Write a code to convert the string \"hello\" to uppercase\n",
        "print(\"hello\".upper())\n"
      ],
      "metadata": {
        "colab": {
          "base_uri": "https://localhost:8080/"
        },
        "id": "YrwbKlvBkx32",
        "outputId": "7c6fd897-d12c-4940-9dcd-50ee7ed0e6b2"
      },
      "execution_count": 10,
      "outputs": [
        {
          "output_type": "stream",
          "name": "stdout",
          "text": [
            "HELLO\n"
          ]
        }
      ]
    },
    {
      "cell_type": "code",
      "source": [
        "# Write a code to replace the word \"apple\" with \"orange\" in the string \"I like apple\"P\n",
        "print(\"i like apple\".replace(\"apple\", \"orange\"))"
      ],
      "metadata": {
        "colab": {
          "base_uri": "https://localhost:8080/"
        },
        "id": "9HTpr2LIlOsG",
        "outputId": "3e1ce656-54e3-48b0-e849-5e5a2a6f8712"
      },
      "execution_count": 11,
      "outputs": [
        {
          "output_type": "stream",
          "name": "stdout",
          "text": [
            "i like orange\n"
          ]
        }
      ]
    },
    {
      "cell_type": "code",
      "source": [
        "#P Write a code to create a list with numbers 1 to 5 and print it\n",
        "num = [1, 2, 3, 4, 5]\n",
        "print(num)"
      ],
      "metadata": {
        "colab": {
          "base_uri": "https://localhost:8080/"
        },
        "id": "_6qemy-hmLMm",
        "outputId": "bad4adb1-000a-4c8f-c4ce-5465d888341e"
      },
      "execution_count": 20,
      "outputs": [
        {
          "output_type": "stream",
          "name": "stdout",
          "text": [
            "[1, 2, 3, 4, 5]\n"
          ]
        }
      ]
    },
    {
      "cell_type": "code",
      "source": [
        "#Write a code to append the number 10 to the list [1, 2, 3, 4]\n",
        "nums = [1, 2, 3, 4]\n",
        "nums.append(10)\n",
        "print(nums)"
      ],
      "metadata": {
        "colab": {
          "base_uri": "https://localhost:8080/"
        },
        "id": "-9fOD9tomWmu",
        "outputId": "a06d2ef0-201e-4f7d-fa47-2a49ce1af1dd"
      },
      "execution_count": 18,
      "outputs": [
        {
          "output_type": "stream",
          "name": "stdout",
          "text": [
            "[1, 2, 3, 4, 10]\n"
          ]
        }
      ]
    },
    {
      "cell_type": "code",
      "source": [
        "#Write a code to remove the number 3 from the list [1, 2, 3, 4, 5]\n",
        "num.remove(3)\n",
        "print(num)"
      ],
      "metadata": {
        "colab": {
          "base_uri": "https://localhost:8080/"
        },
        "id": "fPh4MBCLmqMx",
        "outputId": "df267404-ce94-4f92-d253-cf2a2848678a"
      },
      "execution_count": 21,
      "outputs": [
        {
          "output_type": "stream",
          "name": "stdout",
          "text": [
            "[1, 2, 4, 5]\n"
          ]
        }
      ]
    },
    {
      "cell_type": "code",
      "source": [
        "#Write a code to access the second element in the list ['a', 'b', 'c', 'd']\n",
        "s = ['a', 'b', 'c', 'd']\n",
        "print(s[1])\n"
      ],
      "metadata": {
        "colab": {
          "base_uri": "https://localhost:8080/"
        },
        "id": "gLJxe__knQHJ",
        "outputId": "f9ee2bf3-5b7e-4d53-db81-1f8fbad9e915"
      },
      "execution_count": 22,
      "outputs": [
        {
          "output_type": "stream",
          "name": "stdout",
          "text": [
            "b\n"
          ]
        }
      ]
    },
    {
      "cell_type": "code",
      "source": [
        "#Write a code to reverse the list [10, 20, 30, 40, 50].\n",
        "n = [10, 20, 30, 40, 50]\n",
        "n.reverse()\n",
        "print(n)"
      ],
      "metadata": {
        "colab": {
          "base_uri": "https://localhost:8080/"
        },
        "id": "z5aGDt6Dn6Lv",
        "outputId": "231c2be0-cc69-47fa-babe-af28520d67d8"
      },
      "execution_count": 23,
      "outputs": [
        {
          "output_type": "stream",
          "name": "stdout",
          "text": [
            "[50, 40, 30, 20, 10]\n"
          ]
        }
      ]
    },
    {
      "cell_type": "code",
      "source": [
        "# Write a code to create a tuple with the elements 100, 200, 300 and print it.\n",
        "t = (100, 200, 300)\n",
        "print(t)\n",
        "type(t)"
      ],
      "metadata": {
        "colab": {
          "base_uri": "https://localhost:8080/"
        },
        "id": "vjB0s3KxoN3r",
        "outputId": "dce5c3fb-de32-4e13-d2e8-6ed72f17c448"
      },
      "execution_count": 25,
      "outputs": [
        {
          "output_type": "stream",
          "name": "stdout",
          "text": [
            "(100, 200, 300)\n"
          ]
        },
        {
          "output_type": "execute_result",
          "data": {
            "text/plain": [
              "tuple"
            ]
          },
          "metadata": {},
          "execution_count": 25
        }
      ]
    },
    {
      "cell_type": "code",
      "source": [
        "#  Write a code to access the second-to-last element of the tuple ('red', 'green', 'blue', 'yellow').\n",
        "colour = ('red', 'green', 'blue', 'yellow')\n",
        "print(colour[-2])"
      ],
      "metadata": {
        "colab": {
          "base_uri": "https://localhost:8080/"
        },
        "id": "6TJcIondolBk",
        "outputId": "0ff58d63-aa58-496a-9440-2702983bbc4b"
      },
      "execution_count": 26,
      "outputs": [
        {
          "output_type": "stream",
          "name": "stdout",
          "text": [
            "blue\n"
          ]
        }
      ]
    },
    {
      "cell_type": "code",
      "source": [
        "#Write a code to find the minimum number in the tuple (10, 20, 5, 15).\n",
        "lit2 = (10, 20, 5, 15)\n",
        "print(min(lit2))"
      ],
      "metadata": {
        "colab": {
          "base_uri": "https://localhost:8080/"
        },
        "id": "apK8U97vo5kd",
        "outputId": "cc2efccb-06dc-4d22-e8a5-ee9fce2ee0b6"
      },
      "execution_count": 28,
      "outputs": [
        {
          "output_type": "stream",
          "name": "stdout",
          "text": [
            "5\n"
          ]
        }
      ]
    },
    {
      "cell_type": "code",
      "source": [
        "#Write a code to find the index of the element \"cat\" in the tuple ('dog', 'cat', 'rabbit').\n",
        "pet = ('dog', 'cat', 'rabbit')\n",
        "print(pet.index('cat'))"
      ],
      "metadata": {
        "colab": {
          "base_uri": "https://localhost:8080/"
        },
        "id": "use1ciMvpQji",
        "outputId": "692db71a-119b-45c8-d817-db9773fd968a"
      },
      "execution_count": 29,
      "outputs": [
        {
          "output_type": "stream",
          "name": "stdout",
          "text": [
            "1\n"
          ]
        }
      ]
    },
    {
      "cell_type": "code",
      "source": [
        "#Write a code to create a tuple containing three different fruits and check if \"kiwi\" is in it.\n",
        "fruits = (\"apple\", \"banana\", \"orange\", \"kiwi\")\n",
        "print(\"kiwi\" in fruits)\n"
      ],
      "metadata": {
        "colab": {
          "base_uri": "https://localhost:8080/"
        },
        "id": "u6ABpdeqpqyo",
        "outputId": "051684da-91f9-4056-e263-2d82b596eb3a"
      },
      "execution_count": 31,
      "outputs": [
        {
          "output_type": "stream",
          "name": "stdout",
          "text": [
            "True\n"
          ]
        }
      ]
    },
    {
      "cell_type": "code",
      "source": [
        "# Write a code to create a set with the elements 'a', 'b', 'c' and print it.\n",
        "s = {'a', 'b', 'c'}\n",
        "print(s)"
      ],
      "metadata": {
        "colab": {
          "base_uri": "https://localhost:8080/"
        },
        "id": "gXdIQsrcqBE9",
        "outputId": "26665b5e-3ca6-4ba5-eb8a-afd9257aa2fb"
      },
      "execution_count": 34,
      "outputs": [
        {
          "output_type": "stream",
          "name": "stdout",
          "text": [
            "{'b', 'c', 'a'}\n"
          ]
        }
      ]
    },
    {
      "cell_type": "code",
      "source": [
        "# Write a code to clear all elements from the set {1, 2, 3, 4, 5}.\n",
        "s2 = {1, 2, 3, 4, 5}\n",
        "s2.clear()\n",
        "print(s2)"
      ],
      "metadata": {
        "colab": {
          "base_uri": "https://localhost:8080/"
        },
        "id": "KmkulsUDqVyM",
        "outputId": "7fb76ae5-eda8-4a8c-d9ac-227e43f20c1e"
      },
      "execution_count": 35,
      "outputs": [
        {
          "output_type": "stream",
          "name": "stdout",
          "text": [
            "set()\n"
          ]
        }
      ]
    },
    {
      "cell_type": "code",
      "source": [
        "# Write a code to remove the element 4 from the set {1, 2, 3, 4}.\n",
        "s3 = {1, 2, 3, 4}\n",
        "s3.remove(4)\n",
        "print(s3)"
      ],
      "metadata": {
        "colab": {
          "base_uri": "https://localhost:8080/"
        },
        "id": "LdRb49ioqxB5",
        "outputId": "6d33388b-095d-46bd-c1fd-6e3b56a5ea9d"
      },
      "execution_count": 36,
      "outputs": [
        {
          "output_type": "stream",
          "name": "stdout",
          "text": [
            "{1, 2, 3}\n"
          ]
        }
      ]
    },
    {
      "cell_type": "code",
      "source": [
        "#Write a code to find the union of two sets {1, 2, 3} and {3, 4, 5}\n",
        "c = {1, 2, 3}\n",
        "d = {3, 4, 5}\n",
        "print(c.union(d))"
      ],
      "metadata": {
        "colab": {
          "base_uri": "https://localhost:8080/"
        },
        "id": "xyxuf4CnrACJ",
        "outputId": "e23cd805-072c-4c4d-9dea-877d5be11204"
      },
      "execution_count": 37,
      "outputs": [
        {
          "output_type": "stream",
          "name": "stdout",
          "text": [
            "{1, 2, 3, 4, 5}\n"
          ]
        }
      ]
    },
    {
      "cell_type": "code",
      "source": [
        "#Write a code to find the intersection of two sets {1, 2, 3} and {2, 3, 4}.\n",
        "e = {1, 2, 3}\n",
        "f = {2, 3, 4}\n",
        "print(e.intersection(f))"
      ],
      "metadata": {
        "colab": {
          "base_uri": "https://localhost:8080/"
        },
        "id": "RVSUtr1Jv7ot",
        "outputId": "693968bf-9313-4d71-b2b2-687ebb08135f"
      },
      "execution_count": 38,
      "outputs": [
        {
          "output_type": "stream",
          "name": "stdout",
          "text": [
            "{2, 3}\n"
          ]
        }
      ]
    },
    {
      "cell_type": "code",
      "source": [
        "# Write a code to create a dictionary with the keys \"name\", \"age\", and \"city\", and print it.\n",
        "dic = {\"name\": \"Tushar\", \"age\": 25, \"city\": \"New Delhi\"}\n",
        "print(dic)"
      ],
      "metadata": {
        "colab": {
          "base_uri": "https://localhost:8080/"
        },
        "id": "SFTPJ5SYwf0B",
        "outputId": "e29ee541-175e-472e-85dc-77c4a2a6d506"
      },
      "execution_count": 39,
      "outputs": [
        {
          "output_type": "stream",
          "name": "stdout",
          "text": [
            "{'name': 'Tushar', 'age': 25, 'city': 'New Delhi'}\n"
          ]
        }
      ]
    },
    {
      "cell_type": "code",
      "source": [
        "# Write a code to add a new key-value pair \"country\": \"USA\" to the dictionary {'name': 'John', 'age': 25}\n",
        "dic2 = {\"name\": \"John\", \"age\": 25}\n",
        "dic2[\"country\"] = \"USA\"\n",
        "print(dic2)"
      ],
      "metadata": {
        "colab": {
          "base_uri": "https://localhost:8080/"
        },
        "id": "gVWnk0_T0d7m",
        "outputId": "bbbb078a-e622-4ec7-9e3e-2916aafd0b96"
      },
      "execution_count": 40,
      "outputs": [
        {
          "output_type": "stream",
          "name": "stdout",
          "text": [
            "{'name': 'John', 'age': 25, 'country': 'USA'}\n"
          ]
        }
      ]
    },
    {
      "cell_type": "code",
      "source": [
        "#Write a code to access the value associated with the key \"name\" in the dictionary {'name': 'Alice', 'age': 30}.\n",
        "dic3 = {'name': 'Alice', 'age': 30}\n",
        "print(dic3[\"name\"])"
      ],
      "metadata": {
        "colab": {
          "base_uri": "https://localhost:8080/"
        },
        "id": "yEutiVwZ1BOQ",
        "outputId": "a510e970-26b3-43db-ec06-1467e8e16453"
      },
      "execution_count": 41,
      "outputs": [
        {
          "output_type": "stream",
          "name": "stdout",
          "text": [
            "Alice\n"
          ]
        }
      ]
    },
    {
      "cell_type": "code",
      "source": [
        "#Write a code to remove the key \"age\" from the dictionary {'name': 'Bob', 'age': 22, 'city': 'New York'}.\n",
        "dic4 = {'name': 'Bob', 'age': 22, 'city': 'New York'}\n",
        "dic4.pop(\"age\")\n",
        "print(dic4)"
      ],
      "metadata": {
        "colab": {
          "base_uri": "https://localhost:8080/"
        },
        "id": "Hi0iv7DS5Mg9",
        "outputId": "f975b40f-5c65-4341-a836-43bf3ba7954c"
      },
      "execution_count": 42,
      "outputs": [
        {
          "output_type": "stream",
          "name": "stdout",
          "text": [
            "{'name': 'Bob', 'city': 'New York'}\n"
          ]
        }
      ]
    },
    {
      "cell_type": "code",
      "source": [
        "#Write a code to check if the key \"city\" exists in the dictionary {'name': 'Alice', 'city': 'Paris'}.\n",
        "dic5 = {'name': 'Alice', 'city': 'Paris'}\n",
        "print(\"city\" in dic5)"
      ],
      "metadata": {
        "colab": {
          "base_uri": "https://localhost:8080/"
        },
        "id": "pGGYsgAK5mjv",
        "outputId": "a5592564-658f-4c28-952e-3cd9b4fbf9a6"
      },
      "execution_count": 43,
      "outputs": [
        {
          "output_type": "stream",
          "name": "stdout",
          "text": [
            "True\n"
          ]
        }
      ]
    },
    {
      "cell_type": "code",
      "source": [
        "# Write a code to create a list, a tuple, and a dictionary, and print them all.\n",
        "my_list = [1, 2, 3]\n",
        "my_tuple = (4, 5, 6)\n",
        "my_dict = {\"a\": 1, \"b\": 2}\n",
        "print(my_list, my_tuple, my_dict)"
      ],
      "metadata": {
        "colab": {
          "base_uri": "https://localhost:8080/"
        },
        "id": "Fp2bU75-56Pa",
        "outputId": "608e1074-d938-436e-ae33-fe4c02890935"
      },
      "execution_count": 44,
      "outputs": [
        {
          "output_type": "stream",
          "name": "stdout",
          "text": [
            "[1, 2, 3] (4, 5, 6) {'a': 1, 'b': 2}\n"
          ]
        }
      ]
    },
    {
      "cell_type": "code",
      "source": [
        "#Write a code to create a list of 5 random numbers between 1 and 100, sort it in ascending order, and print the result.(replaced).\n",
        "\n",
        "\n",
        "import random\n",
        "random_list =random.sample(range(1,101),5)\n",
        "random_list.sort()\n",
        "print(random_list)"
      ],
      "metadata": {
        "colab": {
          "base_uri": "https://localhost:8080/"
        },
        "id": "gMgobS0s6G45",
        "outputId": "bc194deb-e138-4492-b0bc-00169ca71ddf"
      },
      "execution_count": 51,
      "outputs": [
        {
          "output_type": "stream",
          "name": "stdout",
          "text": [
            "[4, 20, 33, 44, 66]\n"
          ]
        }
      ]
    },
    {
      "cell_type": "code",
      "source": [
        "#Write a code to create a list with strings and print the element at the third index.\n",
        "list = [\"apple\", \"banana\", \"cherry\", \"date\"]\n",
        "print(list[3])"
      ],
      "metadata": {
        "colab": {
          "base_uri": "https://localhost:8080/"
        },
        "id": "92On6mgH6xq5",
        "outputId": "5a68a98c-69d1-4d0c-eb66-1d61abc32589"
      },
      "execution_count": 52,
      "outputs": [
        {
          "output_type": "stream",
          "name": "stdout",
          "text": [
            "date\n"
          ]
        }
      ]
    },
    {
      "cell_type": "code",
      "source": [
        "#Write a code to combine two dictionaries into one and print the result.\n",
        "d7 = {'a': 1, 'b': 2}\n",
        "d8 = {'c': 3, 'd': 4}\n",
        "d7.update(d8)\n",
        "print(d7)"
      ],
      "metadata": {
        "colab": {
          "base_uri": "https://localhost:8080/"
        },
        "id": "_kCAOz5p7XMV",
        "outputId": "9e51643b-3678-472e-f11d-7a1fb39e31aa"
      },
      "execution_count": 54,
      "outputs": [
        {
          "output_type": "stream",
          "name": "stdout",
          "text": [
            "{'a': 1, 'b': 2, 'c': 3, 'd': 4}\n"
          ]
        }
      ]
    },
    {
      "cell_type": "code",
      "source": [
        "#Write a code to convert a list of strings into a set.\n",
        "str_lst1 = [\"apple\", \"banana\", \"cherry\"]\n",
        "str_set = set(str_lst1)\n"
      ],
      "metadata": {
        "colab": {
          "base_uri": "https://localhost:8080/",
          "height": 176
        },
        "id": "XkOEFc_W76Y_",
        "outputId": "ea11bef2-60d4-45d8-8d1a-184b44fdde36"
      },
      "execution_count": 64,
      "outputs": [
        {
          "output_type": "error",
          "ename": "TypeError",
          "evalue": "'set' object is not callable",
          "traceback": [
            "\u001b[0;31m---------------------------------------------------------------------------\u001b[0m",
            "\u001b[0;31mTypeError\u001b[0m                                 Traceback (most recent call last)",
            "\u001b[0;32m<ipython-input-64-1050045524>\u001b[0m in \u001b[0;36m<cell line: 0>\u001b[0;34m()\u001b[0m\n\u001b[1;32m      1\u001b[0m \u001b[0;31m#Write a code to convert a list of strings into a set.\u001b[0m\u001b[0;34m\u001b[0m\u001b[0;34m\u001b[0m\u001b[0m\n\u001b[1;32m      2\u001b[0m \u001b[0mstr_lst1\u001b[0m \u001b[0;34m=\u001b[0m \u001b[0;34m[\u001b[0m\u001b[0;34m\"apple\"\u001b[0m\u001b[0;34m,\u001b[0m \u001b[0;34m\"banana\"\u001b[0m\u001b[0;34m,\u001b[0m \u001b[0;34m\"cherry\"\u001b[0m\u001b[0;34m]\u001b[0m\u001b[0;34m\u001b[0m\u001b[0;34m\u001b[0m\u001b[0m\n\u001b[0;32m----> 3\u001b[0;31m \u001b[0mstr_set\u001b[0m \u001b[0;34m=\u001b[0m \u001b[0mset\u001b[0m\u001b[0;34m(\u001b[0m\u001b[0mstr_lst1\u001b[0m\u001b[0;34m)\u001b[0m\u001b[0;34m\u001b[0m\u001b[0;34m\u001b[0m\u001b[0m\n\u001b[0m",
            "\u001b[0;31mTypeError\u001b[0m: 'set' object is not callable"
          ]
        }
      ]
    },
    {
      "cell_type": "code",
      "source": [],
      "metadata": {
        "id": "a8YhbGQ88VWe"
      },
      "execution_count": null,
      "outputs": []
    }
  ]
}